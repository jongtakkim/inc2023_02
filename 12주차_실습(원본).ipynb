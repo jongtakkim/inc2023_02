{
  "nbformat": 4,
  "nbformat_minor": 0,
  "metadata": {
    "colab": {
      "provenance": [],
      "authorship_tag": "ABX9TyOZYsiAp7fA/mVuHPTJYQQ0",
      "include_colab_link": true
    },
    "kernelspec": {
      "name": "python3",
      "display_name": "Python 3"
    },
    "language_info": {
      "name": "python"
    }
  },
  "cells": [
    {
      "cell_type": "markdown",
      "metadata": {
        "id": "view-in-github",
        "colab_type": "text"
      },
      "source": [
        "<a href=\"https://colab.research.google.com/github/dorikim9313/depleyment_file/blob/main/12%EC%A3%BC%EC%B0%A8_%EC%8B%A4%EC%8A%B5(%EC%9B%90%EB%B3%B8).ipynb\" target=\"_parent\"><img src=\"https://colab.research.google.com/assets/colab-badge.svg\" alt=\"Open In Colab\"/></a>"
      ]
    },
    {
      "cell_type": "markdown",
      "source": [
        "###1. 과목의 점수를 리스트에 저장하고, 점수가 70점 이상인 과목 수를 출력\n",
        "###score = [72,65,88,92,76,53,45,82]"
      ],
      "metadata": {
        "id": "whu_scnnkd7K"
      }
    },
    {
      "cell_type": "code",
      "execution_count": 1,
      "metadata": {
        "colab": {
          "base_uri": "https://localhost:8080/"
        },
        "id": "sbaaY_v1kZ4L",
        "outputId": "3d84ae93-f8b7-4693-8446-b66275d0704f"
      },
      "outputs": [
        {
          "output_type": "stream",
          "name": "stdout",
          "text": [
            "70점 이상인 과목 수 : 5\n"
          ]
        }
      ],
      "source": [
        "score = [72,65,88,92,76,53,45,82]\n",
        "cnt = 0  # 70점 이상인 과목수를 저장 변수\n",
        "for i in range(8) :\n",
        "  if score[i] >= 70 :\n",
        "    cnt = cnt + 1\n",
        "\n",
        "print(f\"70점 이상인 과목 수 : {cnt}\")"
      ]
    },
    {
      "cell_type": "markdown",
      "source": [
        "###2. 시작값과 끝값을 입력 받아서 시작값부터 끝값까지의 전체합,홀수합,짝수합을 구하여라"
      ],
      "metadata": {
        "id": "IlQzReJWkxlp"
      }
    },
    {
      "cell_type": "code",
      "source": [
        "total = 0 #전체합 구하는 변수\n",
        "odd = 0 # 홀수의 합을 수하는 별수\n",
        "even = 0 # 짝수의 합을 구하는 변수\n",
        "start = int(input(\"시작값 : \"))\n",
        "end = int(input(\"끝값 : \"))\n",
        "\n",
        "for i in range(start,end+1) :\n",
        "  total = total + i\n",
        "  if i % 2 == 1 :\n",
        "    odd = odd + i\n",
        "  else :\n",
        "    even = even + i\n",
        "\n",
        "print(f\"{start}부터 {end}까지 전체합:{total}, 홀수합:{odd}, 짝수합:{even}\")"
      ],
      "metadata": {
        "colab": {
          "base_uri": "https://localhost:8080/"
        },
        "id": "NYssPeY-k0gw",
        "outputId": "337da71f-e7ba-4eb7-ba7f-78d36cd67aa9"
      },
      "execution_count": 2,
      "outputs": [
        {
          "output_type": "stream",
          "name": "stdout",
          "text": [
            "시작값 : 5\n",
            "끝값 : 12\n",
            "5부터 12까지 전체합:68, 홀수합:32, 짝수합:36\n"
          ]
        }
      ]
    },
    {
      "cell_type": "markdown",
      "source": [
        "###3. 점수 : 85,95,70,50,100 다섯개 점수를 리스트에 저장하고\n",
        "###90점이상 'Level 1' 80점 이상 'Level 2' 70점이상 'Level 3' 나머지는 'FAIL'로 출력하여라"
      ],
      "metadata": {
        "id": "4Ne0l2HUlAgR"
      }
    },
    {
      "cell_type": "code",
      "source": [
        "score = [85,95,70,50,100]\n",
        "for i in range(len(score)) :\n",
        "  if score[i] >= 90 :\n",
        "    result ='Level1'\n",
        "  elif score[i] >= 80 :\n",
        "    result = 'Level2'\n",
        "  elif score[i] >= 70 :\n",
        "    result = 'Level3'\n",
        "  else :\n",
        "    result = 'FAIL'\n",
        "  print(f\"{score[i]}점 : {result}\")"
      ],
      "metadata": {
        "colab": {
          "base_uri": "https://localhost:8080/"
        },
        "id": "tD49_daklCIR",
        "outputId": "a83f1a48-6c47-411b-c46b-393cc765b8b7"
      },
      "execution_count": 3,
      "outputs": [
        {
          "output_type": "stream",
          "name": "stdout",
          "text": [
            "85점 : Level2\n",
            "95점 : Level1\n",
            "70점 : Level3\n",
            "50점 : FAIL\n",
            "100점 : Level1\n"
          ]
        }
      ]
    },
    {
      "cell_type": "markdown",
      "source": [
        "###4. 철수:90점  화사:85점 재민:77점 유리:65점 순신 : 72점\n",
        "###5명의 점수를 확인해서 학점을 출력하여라\n",
        "###출력 : 철수는 90점이고 학점은 A 입니다. (5명이 출력)\n",
        "###90점이상 A 80점이상 B 70점이상 C 60점이상 D 60점 미만 F"
      ],
      "metadata": {
        "id": "rZKJboPMlULp"
      }
    },
    {
      "cell_type": "code",
      "source": [
        "score = {'철수':90,'화사':85,'재민':77,'유리':65,'순신':72}\n",
        "\n",
        "for i in score.keys() :\n",
        "  if score[i] >= 90 :\n",
        "    result = 'A'\n",
        "  elif score[i] >= 80 :\n",
        "    result = 'B'\n",
        "  elif score[i] >= 70 :\n",
        "    result = 'C'\n",
        "  elif score[i] >= 60 :\n",
        "    result = 'D'\n",
        "  else :\n",
        "    result = 'F'\n",
        "  print(f\"{score[i]}는 {score[i]}점이고 학점은 {result}입니다.\")"
      ],
      "metadata": {
        "colab": {
          "base_uri": "https://localhost:8080/"
        },
        "id": "zoZexMNnlWLo",
        "outputId": "993d3b2d-ee25-4f19-abc8-ea4c287f47ae"
      },
      "execution_count": 10,
      "outputs": [
        {
          "output_type": "stream",
          "name": "stdout",
          "text": [
            "90는 90점이고 학점은 A입니다.\n",
            "85는 85점이고 학점은 B입니다.\n",
            "77는 77점이고 학점은 C입니다.\n",
            "65는 65점이고 학점은 D입니다.\n",
            "72는 72점이고 학점은 C입니다.\n"
          ]
        }
      ]
    },
    {
      "cell_type": "markdown",
      "source": [
        "###5. 입력한 숫자만큼 막대 그래프를 그리고 0이 입력되면 종료를 하는 프로그램을 작성하시오"
      ],
      "metadata": {
        "id": "76Kynuvel5ia"
      }
    },
    {
      "cell_type": "code",
      "source": [
        "print(\"입력 받은 숫자만큼 막대 그래프 그리기\")\n",
        "while True :\n",
        "  num = int(input(\"정수값 (종료 : 0) --> \"))\n",
        "  if num == 0 :\n",
        "    break\n",
        "\n",
        "  for i in range(num) :\n",
        "    print(\"*\",end=' ')\n",
        "  print()\n",
        "print(\"프로그램 종료\")"
      ],
      "metadata": {
        "colab": {
          "base_uri": "https://localhost:8080/"
        },
        "id": "pLRt1zAGl8Kn",
        "outputId": "1b0c2df2-5a66-4c62-ac63-08b7c0a64154"
      },
      "execution_count": 5,
      "outputs": [
        {
          "output_type": "stream",
          "name": "stdout",
          "text": [
            "입력 받은 숫자만큼 막대 그래프 그리기\n",
            "정수값 (종료 : 0) --> 6\n",
            "* * * * * * \n",
            "정수값 (종료 : 0) --> 15\n",
            "* * * * * * * * * * * * * * * \n",
            "정수값 (종료 : 0) --> 2\n",
            "* * \n",
            "정수값 (종료 : 0) --> 0\n",
            "프로그램 종료\n"
          ]
        }
      ]
    },
    {
      "cell_type": "markdown",
      "source": [
        "###6. 구구단 게임 만들기\n",
        "###   두 개의 숫자를 랜덤으로 출력하고 두수의 곱하기를 맞추는 게임으로 0을 입력하면 종료"
      ],
      "metadata": {
        "id": "blrPUMBimI3Z"
      }
    },
    {
      "cell_type": "code",
      "source": [
        "import random\n",
        "print(\"구구단 게임\")\n",
        "while True :\n",
        "  s = input(\"시작 : 아무키나, 종료 : 0 -->  \")\n",
        "  if s == '0' :\n",
        "    break\n",
        "  dan = random.randint(2,9)\n",
        "  num = random.randint(1,9)\n",
        "  #print(f\"{dan} X {num} = \")\n",
        "  ans = int(input(f\"{dan} X {num} = \"))\n",
        "  if ans == (dan*num) :\n",
        "    print(\"정답~~~\")\n",
        "  else :\n",
        "    print(\"너는 그것도 모르냐?~~~\")\n",
        "\n",
        "print(\"구구단 게임 종료\")"
      ],
      "metadata": {
        "colab": {
          "base_uri": "https://localhost:8080/"
        },
        "id": "uramhGCXmPxw",
        "outputId": "ca5f28a1-f7dc-4e8b-b721-9681d172bf83"
      },
      "execution_count": 11,
      "outputs": [
        {
          "output_type": "stream",
          "name": "stdout",
          "text": [
            "구구단 게임\n",
            "시작 : 아무키나, 종료 : 0 -->   \n",
            "4 X 7 = 28\n",
            "정답~~~\n",
            "시작 : 아무키나, 종료 : 0 -->  2\n",
            "8 X 4 = 32\n",
            "정답~~~\n",
            "시작 : 아무키나, 종료 : 0 -->  2\n",
            "4 X 8 = 22\n",
            "너는 그것도 모르냐?~~~\n",
            "시작 : 아무키나, 종료 : 0 -->  0\n",
            "구구단 게임 종료\n"
          ]
        }
      ]
    },
    {
      "cell_type": "markdown",
      "source": [
        "###7.로또게임 만들기"
      ],
      "metadata": {
        "id": "cpf8ZJOamnxH"
      }
    },
    {
      "cell_type": "code",
      "source": [
        "import random\n",
        "lotto = []\n",
        "while True :\n",
        "  num = random.randint(1,45)\n",
        "  if num in lotto :\n",
        "    continue\n",
        "  else :\n",
        "    lotto.append(num)\n",
        "  if len(lotto) == 6 :\n",
        "    break\n",
        "\n",
        "lotto.sort()\n",
        "print(\"로또 번호 : \",end=' ')\n",
        "for i in lotto :\n",
        "  print(i,end=' ')"
      ],
      "metadata": {
        "colab": {
          "base_uri": "https://localhost:8080/"
        },
        "id": "Sdtfof-Umr8h",
        "outputId": "e7f6d1d4-b0c6-4ded-e5f0-6012cb3ea4b0"
      },
      "execution_count": 8,
      "outputs": [
        {
          "output_type": "stream",
          "name": "stdout",
          "text": [
            "로또 번호 :  2 24 25 32 34 40 "
          ]
        }
      ]
    },
    {
      "cell_type": "markdown",
      "source": [
        "###8. 가위바위보 게임 만들기"
      ],
      "metadata": {
        "id": "qlHuN3womyYg"
      }
    },
    {
      "cell_type": "code",
      "source": [
        "import random\n",
        "\n",
        "sam = ['가위','바위','보']\n",
        "\n",
        "while True :\n",
        "  usr = int(input(\"번호를 선택해 주세요 1)가위 2)바위 3)보 -->  \"))\n",
        "  com = sam.index(random.choice(sam))+1\n",
        "\n",
        "  if usr == com :\n",
        "    re = '비김'\n",
        "  elif usr == 1 and com == 2 :\n",
        "    re = '졌음'\n",
        "  elif usr == 1 and com == 3 :\n",
        "    re = '이김'\n",
        "  elif usr== 2 and com == 1 :\n",
        "    re = '이김'\n",
        "  elif usr == 2 and com == 3 :\n",
        "    re = '졌음'\n",
        "  elif usr == 3 and com == 1 :\n",
        "    re = '졌음'\n",
        "  elif usr == 3 and com == 2 :\n",
        "    re = '이김'\n",
        "\n",
        "  print(f\"유저 : {sam[usr-1]} VS 컴퓨터 : {sam[com-1]}  --> 결과 : {re}\")\n",
        "  exit=int(input(\"계속하시겠습니까? 1)계속 2)종료 --> \"))\n",
        "  if exit == 2  :\n",
        "    break\n",
        "print(\"가위바위보게임 종료 \")"
      ],
      "metadata": {
        "colab": {
          "base_uri": "https://localhost:8080/"
        },
        "id": "sF2IBNujm4vB",
        "outputId": "60ba7301-8536-4eed-ffe7-f94b9df400d8"
      },
      "execution_count": 9,
      "outputs": [
        {
          "output_type": "stream",
          "name": "stdout",
          "text": [
            "번호를 선택해 주세요 1)가위 2)바위 3)보 -->  1\n",
            "유저 : 가위 VS 컴퓨터 : 가위  --> 결과 : 비김\n",
            "계속하시겠습니까? 1)계속 2)종료 --> 1\n",
            "번호를 선택해 주세요 1)가위 2)바위 3)보 -->  2\n",
            "유저 : 바위 VS 컴퓨터 : 가위  --> 결과 : 이김\n",
            "계속하시겠습니까? 1)계속 2)종료 --> 1\n",
            "번호를 선택해 주세요 1)가위 2)바위 3)보 -->  3\n",
            "유저 : 보 VS 컴퓨터 : 보  --> 결과 : 비김\n",
            "계속하시겠습니까? 1)계속 2)종료 --> 2\n",
            "가위바위보게임 종료 \n"
          ]
        }
      ]
    }
  ]
}